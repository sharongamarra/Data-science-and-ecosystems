{
  "nbformat": 4,
  "nbformat_minor": 0,
  "metadata": {
    "colab": {
      "provenance": [],
      "authorship_tag": "ABX9TyMEsoO+8/QZqGFZEh+aIxEx"
    },
    "kernelspec": {
      "name": "python3",
      "display_name": "Python 3"
    },
    "language_info": {
      "name": "python"
    }
  },
  "cells": [
    {
      "cell_type": "markdown",
      "source": [
        "# Data Science Tools and Ecosystem\n"
      ],
      "metadata": {
        "id": "oEpeWnA4Pgvb"
      }
    },
    {
      "cell_type": "markdown",
      "source": [
        "In this notebook, Data Science Tools and Ecosystem are summarized."
      ],
      "metadata": {
        "id": "5QOLySr0Qhnj"
      }
    },
    {
      "cell_type": "markdown",
      "source": [
        "**Objetives**\n",
        "*   Rememeber important tools, libraries and development environment for Data science\n",
        "*  Use markdown for explain information in cells\n",
        "*  Create some codes and comments\n",
        "\n",
        "\n"
      ],
      "metadata": {
        "id": "ao2Jsqc_XmVd"
      }
    },
    {
      "cell_type": "markdown",
      "source": [
        "Some of the popular languages that Data Scientists use are:\n",
        "\n",
        "1. Python\n",
        "2. R\n",
        "3. SQL\n",
        "4. Scala\n",
        "5. Java\n",
        "6. Javascript\n"
      ],
      "metadata": {
        "id": "4sEz8MtgQ25K"
      }
    },
    {
      "cell_type": "markdown",
      "source": [
        "Some of the commonly used libraries used by Data Scientists include\n",
        "\n",
        "1. Numpy\n",
        "2. Pandas\n",
        "3. Matplotlib\n",
        "4. ggplot\n",
        "6. Caret"
      ],
      "metadata": {
        "id": "EteG2EVWRQt6"
      }
    },
    {
      "cell_type": "markdown",
      "source": [
        "\n",
        "|Data Science Tools|\n",
        "|------------------|\n",
        "|R studio          |\n",
        "|Apache Spark      |\n",
        "| Jupyter          |\n",
        "|Ray               |\n",
        "| Apache Flink     |\n",
        "| Spyder           |\n",
        "|Apache Zeppelin   |\n"
      ],
      "metadata": {
        "id": "t1LSEcvkSJI0"
      }
    },
    {
      "cell_type": "markdown",
      "source": [
        "### Below are a few examples of evaluating arithmetic expressions in Python"
      ],
      "metadata": {
        "id": "Q2jDvCihVWwZ"
      }
    },
    {
      "cell_type": "code",
      "source": [
        "#This a simple arithmetic expression to mutiply then add integers\n",
        "(3*4)+5"
      ],
      "metadata": {
        "colab": {
          "base_uri": "https://localhost:8080/"
        },
        "id": "Lgw5qshGWA5g",
        "outputId": "18a46590-f416-4cfa-9583-80ace38a554d"
      },
      "execution_count": 2,
      "outputs": [
        {
          "output_type": "execute_result",
          "data": {
            "text/plain": [
              "17"
            ]
          },
          "metadata": {},
          "execution_count": 2
        }
      ]
    },
    {
      "cell_type": "code",
      "source": [
        "#This will convert 200 minutes to hours by diving by 60\n",
        "(200*1)/60"
      ],
      "metadata": {
        "colab": {
          "base_uri": "https://localhost:8080/"
        },
        "id": "zFDkBMTuWLei",
        "outputId": "1b7cacca-6269-45c3-f009-069bdaf5f0e0"
      },
      "execution_count": 3,
      "outputs": [
        {
          "output_type": "execute_result",
          "data": {
            "text/plain": [
              "3.3333333333333335"
            ]
          },
          "metadata": {},
          "execution_count": 3
        }
      ]
    },
    {
      "cell_type": "markdown",
      "source": [
        "## Autor\n",
        "Sharon Gamarra"
      ],
      "metadata": {
        "id": "dOnB3pymaJbY"
      }
    }
  ]
}